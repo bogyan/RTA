{
 "cells": [
  {
   "cell_type": "code",
   "execution_count": 6,
   "id": "9e921c1c-4619-4a63-82ca-dcf5c69ffad3",
   "metadata": {},
   "outputs": [],
   "source": [
    "import json\n",
    "from time import sleep\n",
    "from kafka import KafkaProducer"
   ]
  },
  {
   "cell_type": "code",
   "execution_count": 7,
   "id": "4e749e6c-dcec-4264-ad76-0a43ba46ce8d",
   "metadata": {},
   "outputs": [],
   "source": [
    "APIstucture = {\n",
    "    'keywords': 'python,data,science,analysis',\n",
    "    'location': 'london',\n",
    "    'permanent': None,\n",
    "    'contract': None,\n",
    "    'temp': None,\n",
    "    'partTime': None,\n",
    "    'fullTime': None,\n",
    "    'minimumSalary': None,\n",
    "    'maximumSalary': None,\n",
    "    'postedByRecruitmentAgency': None,\n",
    "    'postedByDirectEmployer': None,\n",
    "    'graduate': None,\n",
    "    'resultsToTake': 100,\n",
    "    'resultsToSkip': 0\n",
    "}\n",
    "def getAPIrequestPages(take=100, skip=0):\n",
    "    APIstuctureCopy = APIstucture.copy()\n",
    "    APIstuctureCopy['resultsToTake'] = take\n",
    "    APIstuctureCopy['resultsToSkip'] = skip\n",
    "    \n",
    "    searchParamsString = ''.join([f'{k.lower()}={v}&' for k, v in APIstuctureCopy.items() if v is not None])[:-1]\n",
    "\n",
    "    return f\"https://www.reed.co.uk/api/1.0/search?{searchParamsString}\""
   ]
  },
  {
   "cell_type": "code",
   "execution_count": 8,
   "id": "33286fab-994d-4e55-bd9c-6af469c3f4a4",
   "metadata": {},
   "outputs": [],
   "source": [
    "import requests\n",
    "from requests.auth import HTTPBasicAuth\n",
    "\n",
    "APIkey = '175d9360-1c71-48cb-95ec-0ba958c29a35'\n",
    "\n",
    "jobListings = []\n",
    "\n",
    "for i in range(10):\n",
    "    apiURL = getAPIrequestPages(skip=101*i)\n",
    "    response = response = requests.get(apiURL, auth=HTTPBasicAuth(APIkey, ''))\n",
    "    data = response.json()['results']\n",
    "    jobListings += data"
   ]
  },
  {
   "cell_type": "code",
   "execution_count": null,
   "id": "65183808-957e-401a-a1cf-41c42d8a25fa",
   "metadata": {},
   "outputs": [],
   "source": [
    "if __name__ == \"__main__\":\n",
    "    SERVER = \"broker:9092\"\n",
    "\n",
    "    producer = KafkaProducer(\n",
    "        bootstrap_servers=[SERVER],\n",
    "        value_serializer=lambda x: json.dumps(x).encode(\"utf-8\"),\n",
    "        api_version=(3, 7, 0),\n",
    "    )   \n",
    "    \n",
    "    try:\n",
    "        i = 0\n",
    "        while True:\n",
    "            producer.send(\"streaming\", value=jobListings[i])\n",
    "            i += 1\n",
    "            sleep(2)\n",
    "    except:\n",
    "        producer.close()"
   ]
  }
 ],
 "metadata": {
  "kernelspec": {
   "display_name": "Python 3 (ipykernel)",
   "language": "python",
   "name": "python3"
  },
  "language_info": {
   "codemirror_mode": {
    "name": "ipython",
    "version": 3
   },
   "file_extension": ".py",
   "mimetype": "text/x-python",
   "name": "python",
   "nbconvert_exporter": "python",
   "pygments_lexer": "ipython3",
   "version": "3.11.5"
  }
 },
 "nbformat": 4,
 "nbformat_minor": 5
}
